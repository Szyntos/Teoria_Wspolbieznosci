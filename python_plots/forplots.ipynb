{
 "cells": [
  {
   "cell_type": "code",
   "execution_count": 37,
   "metadata": {
    "collapsed": true
   },
   "outputs": [],
   "source": [
    "import pandas as pd\n",
    "import matplotlib.pyplot as plt\n",
    "import os"
   ]
  },
  {
   "cell_type": "code",
   "execution_count": 38,
   "outputs": [],
   "source": [
    "\n",
    "# Load the CSV data into a DataFrame\n",
    "data = pd.read_csv('../Zadania/executions.csv')"
   ],
   "metadata": {
    "collapsed": false
   }
  },
  {
   "cell_type": "code",
   "execution_count": 39,
   "outputs": [],
   "source": [
    "if not os.path.exists('plots'):\n",
    "    os.makedirs('plots')"
   ],
   "metadata": {
    "collapsed": false
   }
  },
  {
   "cell_type": "code",
   "execution_count": 40,
   "outputs": [],
   "source": [
    "# unique_combinations = data.groupby(['bufferType', 'rngType', 'function', 'bufferSize', 'prodConsCount'])\n",
    "# for group, df_group in unique_combinations:\n",
    "#     plt.figure(figsize=(4, 3))  # Adjust figure size as needed\n",
    "#     plt.title(f\"{group}\")\n",
    "#     # plt.subplot(2, 1, 1)\n",
    "#     plt.bar(df_group['putTakeChunk'], df_group['executions'], color=('blue' if group[2] == \"take\" else \"red\"))\n",
    "#     # plt.title('Put')\n",
    "#     mean_value = df_group['executions'].mean()\n",
    "#     plt.axhline(mean_value, color='green', linestyle='--', label=f'Mean: {mean_value:.2f}')\n",
    "#     plt.text(df_group['putTakeChunk'].iloc[-1], mean_value, f'Mean: {mean_value:.2f}', va='center', ha='right', backgroundcolor='white')\n",
    "#\n",
    "#     plt.xlabel('putTakeChunk')\n",
    "#     plt.ylabel('Executions')\n",
    "#     plt.grid(True)\n",
    "#\n",
    "#\n",
    "#     plt.tight_layout()\n",
    "#     plt.show()\n",
    "buffer_groups = data.groupby('bufferType')\n",
    "\n",
    "for buffer_type, buffer_data in buffer_groups:\n",
    "    # Create a directory for each bufferType if it doesn't exist\n",
    "    buffer_folder = os.path.join('plots', buffer_type)\n",
    "    if not os.path.exists(buffer_folder):\n",
    "        os.makedirs(buffer_folder)\n",
    "\n",
    "    # Group data within bufferType groups by other columns\n",
    "    unique_combinations = buffer_data.groupby(['bufferType', 'rngType', 'function', 'bufferSize', 'prodConsCount'])\n",
    "\n",
    "    for group, df_group in unique_combinations:\n",
    "        plt.figure(figsize=(8, 6))  # Adjust figure size as needed\n",
    "        plt.title(f\"{group}\")\n",
    "\n",
    "        # Plot bar chart\n",
    "        plt.bar(df_group['putTakeChunk'], df_group['executions'], color=('blue' if group[2] == \"take\" else \"red\"))\n",
    "\n",
    "        # Calculate mean and plot mean line\n",
    "        mean_value = df_group['executions'].mean()\n",
    "        plt.axhline(mean_value, color='green', linestyle='--', label=f'Mean: {mean_value:.2f}')\n",
    "        plt.text(df_group['putTakeChunk'].iloc[-1], mean_value, f'Mean: {mean_value:.2f}', va='center', ha='right', backgroundcolor='white')\n",
    "\n",
    "        plt.xlabel('putTakeChunk')\n",
    "        plt.ylabel('Executions')\n",
    "        plt.grid(True)\n",
    "        plt.legend(loc='lower left')\n",
    "\n",
    "        # Save plot to respective bufferType folder\n",
    "        plot_filename = f\"{group}_plot.png\"\n",
    "        plot_path = os.path.join(buffer_folder, plot_filename)\n",
    "        plt.tight_layout()\n",
    "        plt.savefig(plot_path)\n",
    "        plt.close()"
   ],
   "metadata": {
    "collapsed": false
   }
  }
 ],
 "metadata": {
  "kernelspec": {
   "display_name": "Python 3",
   "language": "python",
   "name": "python3"
  },
  "language_info": {
   "codemirror_mode": {
    "name": "ipython",
    "version": 2
   },
   "file_extension": ".py",
   "mimetype": "text/x-python",
   "name": "python",
   "nbconvert_exporter": "python",
   "pygments_lexer": "ipython2",
   "version": "2.7.6"
  }
 },
 "nbformat": 4,
 "nbformat_minor": 0
}
